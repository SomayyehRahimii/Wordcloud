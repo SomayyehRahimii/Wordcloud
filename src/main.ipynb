{
 "cells": [
  {
   "cell_type": "code",
   "execution_count": 1,
   "metadata": {},
   "outputs": [],
   "source": [
    "from wordcloud import WordCloud"
   ]
  },
  {
   "cell_type": "code",
   "execution_count": 2,
   "metadata": {},
   "outputs": [],
   "source": [
    "class WordCloudGenerator:\n",
    "    def __init__(self, data_path):\n",
    "        with open(data_path) as f:\n",
    "            self.text = f.read()\n",
    "\n",
    "        def run(self, output_path, **kwargs):\n",
    "            WordCloud(**kwargs).generate(self.text).to_file(output_path)\n",
    "\n",
    "if __name__ == ' __main__':\n",
    "    import sys\n",
    "    input_file = sys.argv[1]\n",
    "    output_file = sys.argv[2]\n",
    "\n",
    "    wc_gen = WordCloudGenerator(input_file)\n",
    "    wc_gen.run(\n",
    "        output_file,\n",
    "        width=600, height=400,\n",
    "        background_color='white'\n",
    "    )\n"
   ]
  }
 ],
 "metadata": {
  "kernelspec": {
   "display_name": "Python 3",
   "language": "python",
   "name": "python3"
  },
  "language_info": {
   "codemirror_mode": {
    "name": "ipython",
    "version": 3
   },
   "file_extension": ".py",
   "mimetype": "text/x-python",
   "name": "python",
   "nbconvert_exporter": "python",
   "pygments_lexer": "ipython3",
   "version": "3.12.3"
  }
 },
 "nbformat": 4,
 "nbformat_minor": 2
}
